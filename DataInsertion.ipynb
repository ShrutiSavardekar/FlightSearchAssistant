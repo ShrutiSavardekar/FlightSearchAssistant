{
 "cells": [
  {
   "cell_type": "code",
   "execution_count": 1,
   "id": "1e6babee-a8d1-4130-bc00-3c214dc0e053",
   "metadata": {},
   "outputs": [],
   "source": [
    "import cassandra\n",
    "from cassandra.cluster import Cluster\n",
    "import warnings\n",
    "warnings.filterwarnings('ignore')\n",
    "try: \n",
    "    cluster = Cluster(['127.0.0.1']) #cassandra is running locally\n",
    "    session = cluster.connect()\n",
    "except Exception as e:\n",
    "    print(e)"
   ]
  },
  {
   "cell_type": "code",
   "execution_count": null,
   "id": "d2747452-dae4-4db2-af3f-b1982555df32",
   "metadata": {},
   "outputs": [],
   "source": [
    "file = 'data/airports.csv'\n",
    "import csv\n",
    "with open(file, encoding = 'utf8') as f:\n",
    "\n",
    "    csvreader = csv.reader(f)\n",
    "    next(csvreader) # skip header\n",
    "    for line in csvreader:\n",
    "        \n",
    "        # Assign the INSERT statements into the `query` variable\n",
    "        query = \"INSERT INTO flights.airportdetails (airportid, city,state, name)\"\n",
    "        query = query + \" VALUES (%s, %s, %s, %s)\"\n",
    "        # print(line[3])\n",
    "        # Assign which column element should be assigned for each column in the INSERT \n",
    "        # statement.\n",
    "        session.execute(query, (int(line[0]), (line[1]), (line[2]), (line[3])))"
   ]
  },
  {
   "cell_type": "code",
   "execution_count": 11,
   "id": "0d31de7d-a75e-47ae-a450-434472049b86",
   "metadata": {},
   "outputs": [
    {
     "name": "stdout",
     "output_type": "stream",
     "text": [
      "Done\n"
     ]
    }
   ],
   "source": [
    "file = 'data/flights.csv'\n",
    "import csv\n",
    "with open(file, encoding = 'utf8') as f:\n",
    "\n",
    "    csvreader = csv.reader(f)\n",
    "    next(csvreader) # skip header\n",
    "    for line in csvreader:\n",
    "        \n",
    "        # Assign the INSERT statements into the `query` variable\n",
    "        query = \"INSERT INTO flights.flightdetails (DayofMonth,DayOfWeek,Carrier,OriginAirportID,DestAirportID,DepDelay,ArrDelay)\"\n",
    "        query = query + \" VALUES (%s, %s, %s, %s, %s, %s, %s)\"\n",
    "        # print(line[2])\n",
    "        # Assign which column element should be assigned for each column in the INSERT \n",
    "        # statement.\n",
    "        session.execute(query, (int(line[0]), int(line[1]), (line[2]), int(line[3]), int(line[4]), int(line[5]), int(line[6])))\n",
    "print(\"Done\")"
   ]
  },
  {
   "cell_type": "code",
   "execution_count": null,
   "id": "aeb4ba31-04df-4eb5-94e1-296b84cb9501",
   "metadata": {},
   "outputs": [],
   "source": []
  }
 ],
 "metadata": {
  "kernelspec": {
   "display_name": "Python 3 (ipykernel)",
   "language": "python",
   "name": "python3"
  },
  "language_info": {
   "codemirror_mode": {
    "name": "ipython",
    "version": 3
   },
   "file_extension": ".py",
   "mimetype": "text/x-python",
   "name": "python",
   "nbconvert_exporter": "python",
   "pygments_lexer": "ipython3",
   "version": "3.9.7"
  }
 },
 "nbformat": 4,
 "nbformat_minor": 5
}
